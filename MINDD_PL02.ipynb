{
  "nbformat": 4,
  "nbformat_minor": 0,
  "metadata": {
    "colab": {
      "provenance": [],
      "authorship_tag": "ABX9TyPRx+98CpXPkRPGbsAA1Vro",
      "include_colab_link": true
    },
    "kernelspec": {
      "name": "python3",
      "display_name": "Python 3"
    },
    "language_info": {
      "name": "python"
    }
  },
  "cells": [
    {
      "cell_type": "markdown",
      "metadata": {
        "id": "view-in-github",
        "colab_type": "text"
      },
      "source": [
        "<a href=\"https://colab.research.google.com/github/tassiogomes/AprendendoGit/blob/main/MINDD_PL02.ipynb\" target=\"_parent\"><img src=\"https://colab.research.google.com/assets/colab-badge.svg\" alt=\"Open In Colab\"/></a>"
      ]
    },
    {
      "cell_type": "markdown",
      "source": [
        "## 1. Start to load the dataset week_purchases18-25.txt into R session and next:\n",
        "a. check its size\n",
        "b. get a summary of data\n",
        "c. check which columns are numeric and which are categorical\n",
        "d. check for missing data by rows and by columns"
      ],
      "metadata": {
        "id": "WB3lREJnuYK1"
      }
    },
    {
      "cell_type": "code",
      "execution_count": null,
      "metadata": {
        "id": "vWDJ9dBtqM6L"
      },
      "outputs": [],
      "source": [
        "import pandas as pd\n",
        "import numpy as np\n",
        "%matplotlib inline\n",
        "import matplotlib.pyplot as plt\n",
        "import seaborn as sns\n",
        "import folium\n",
        "\n",
        "from google.colab import drive\n",
        "drive.mount('/content/drive')\n",
        "\n",
        "df = pd.read_csv('drive/My Drive/MINDD/week_purchases18-25.txt', sep='\\t')\n",
        "df.head()\n",
        "\n"
      ]
    },
    {
      "cell_type": "code",
      "source": [
        "print(df.shape)\n",
        "print(df.columns.to_list())"
      ],
      "metadata": {
        "colab": {
          "base_uri": "https://localhost:8080/"
        },
        "id": "y3GLPPiBsYaz",
        "outputId": "3f55364a-f962-40b0-ee24-3b08192dccfb"
      },
      "execution_count": 13,
      "outputs": [
        {
          "output_type": "stream",
          "name": "stdout",
          "text": [
            "(739, 16)\n",
            "['Username', 'TitleCli', 'Name', 'Address', 'Country', 'Gender', 'Age', 'Favourites', 'Order_ID', 'Product_ID', 'Style', 'Film_Title', 'Price', 'PurchTime', 'PurchDate', 'Buy_for']\n"
          ]
        }
      ]
    },
    {
      "cell_type": "code",
      "source": [],
      "metadata": {
        "id": "hpCok46AvEE3"
      },
      "execution_count": null,
      "outputs": []
    }
  ]
}